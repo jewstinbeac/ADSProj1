{
 "cells": [
  {
   "cell_type": "code",
   "execution_count": 1,
   "metadata": {},
   "outputs": [
    {
     "name": "stderr",
     "output_type": "stream",
     "text": [
      "21/08/11 12:28:26 WARN Utils: Your hostname, KAGE-LAPTOP resolves to a loopback address: 127.0.1.1; using 172.19.189.36 instead (on interface eth0)\n",
      "21/08/11 12:28:26 WARN Utils: Set SPARK_LOCAL_IP if you need to bind to another address\n",
      "21/08/11 12:28:28 WARN NativeCodeLoader: Unable to load native-hadoop library for your platform... using builtin-java classes where applicable\n",
      "Using Spark's default log4j profile: org/apache/spark/log4j-defaults.properties\n",
      "Setting default log level to \"WARN\".\n",
      "To adjust logging level use sc.setLogLevel(newLevel). For SparkR, use setLogLevel(newLevel).\n",
      "INFO:SparkMonitorKernel:Client Connected ('127.0.0.1', 35228)\n"
     ]
    },
    {
     "name": "stdout",
     "output_type": "stream",
     "text": [
      "Created Spark Context\n",
      "Created Spark Session\n",
      "Set Good Looking Dataframes\n",
      "Using Apache Arrow\n"
     ]
    }
   ],
   "source": [
    "from pyspark import SparkContext\n",
    "from pyspark.sql import SparkSession\n",
    "import warnings\n",
    "\n",
    "warnings.filterwarnings(\"ignore\")\n",
    "\n",
    "# Start the spark context\n",
    "sc = SparkContext.getOrCreate(conf=swan_spark_conf) \n",
    "print(\"Created Spark Context\")\n",
    "\n",
    "# create a spark session (which will run spark jobs)\n",
    "spark = SparkSession.builder.getOrCreate()\n",
    "print(\"Created Spark Session\")\n",
    "\n",
    "#  set good looking dataframes\n",
    "spark.conf.set('spark.sql.repl.eagerEval.enabled', True)\n",
    "print(\"Set Good Looking Dataframes\")\n",
    "\n",
    "# use Apache Arrow\n",
    "spark.conf.set('spark.sql.execution.arrow.pyspark.enabled', True)\n",
    "print(\"Using Apache Arrow\")"
   ]
  },
  {
   "cell_type": "code",
   "execution_count": 2,
   "metadata": {},
   "outputs": [
    {
     "name": "stderr",
     "output_type": "stream",
     "text": [
      "                                                                                \r"
     ]
    }
   ],
   "source": [
    "sdfWeekdays = spark.read.parquet('./preprocessed_data/weekdayRemovedInvalids.parquet')\n",
    "sdfWeekends = spark.read.parquet('./preprocessed_data/weekendsRemovedInvalids.parquet')\n",
    "sdfZoneLookup = spark.read.csv('./raw_data/taxi_zone_lookup.csv', header=True)\n",
    "\n",
    "def saveToParquet(sdf, fpath):\n",
    "    if path.exists(fpath):\n",
    "        rmtree(fpath)\n",
    "    sdf.write.format('parquet').save(fpath)"
   ]
  },
  {
   "cell_type": "code",
   "execution_count": 3,
   "metadata": {},
   "outputs": [],
   "source": [
    "from pyspark.sql import functions as F\n",
    "from pyspark.sql.types import *\n",
    "from pyspark.sql import DataFrame as D\n",
    "\n",
    "ints = ['LocationID']\n",
    "strings = ('Borough', 'Zone', 'service_zone')\n",
    "dtypes = {column: IntegerType() for column in ints}\n",
    "dtypes.update({column: StringType() for column in strings})\n",
    "\n",
    "setSchema = StructType()\n",
    "for column in sdfZoneLookup.columns:\n",
    "    setSchema.add(column,\n",
    "                  dtypes[column],\n",
    "                  True)\n",
    "    \n",
    "sdfZoneLookup = spark.read.csv('./raw_data/taxi_zone_lookup.csv', \n",
    "                               header=True, schema=setSchema)"
   ]
  },
  {
   "cell_type": "code",
   "execution_count": 4,
   "metadata": {},
   "outputs": [
    {
     "name": "stderr",
     "output_type": "stream",
     "text": [
      "[Stage 4:===================================================>   (187 + 8) / 200]\r"
     ]
    },
    {
     "name": "stdout",
     "output_type": "stream",
     "text": [
      "265\n"
     ]
    },
    {
     "name": "stderr",
     "output_type": "stream",
     "text": [
      "\r",
      "                                                                                \r"
     ]
    },
    {
     "name": "stdout",
     "output_type": "stream",
     "text": [
      "[Row(LocationID=261, Borough='Manhattan', Zone='World Trade Center', service_zone='Yellow Zone'), Row(LocationID=262, Borough='Manhattan', Zone='Yorkville East', service_zone='Yellow Zone'), Row(LocationID=263, Borough='Manhattan', Zone='Yorkville West', service_zone='Yellow Zone'), Row(LocationID=264, Borough='Unknown', Zone='NV', service_zone='N/A'), Row(LocationID=265, Borough='Unknown', Zone='NA', service_zone='N/A')]\n"
     ]
    }
   ],
   "source": [
    "print(sdfZoneLookup.select('LocationID').distinct().count())\n",
    "\n",
    "#There are 265 LocationIDs but the data dictionary tells us there should only be 263\n",
    "\n",
    "print(sdfZoneLookup.orderBy('LocationID').tail(5))\n",
    "\n",
    "#On closer inspection, zones 264 and 265 seem to be invalid -> We drop them\n",
    "\n",
    "sdfZoneLookup = sdfZoneLookup.filter(sdfZoneLookup.LocationID.isin(list(range(1,264))))"
   ]
  },
  {
   "cell_type": "code",
   "execution_count": 5,
   "metadata": {},
   "outputs": [
    {
     "name": "stderr",
     "output_type": "stream",
     "text": [
      "                                                                                \r"
     ]
    }
   ],
   "source": [
    "def zoneExpectedEarnings(sdf, weekend):\n",
    "    ''' \n",
    "    Function to calulate the Expected Earnings of each taxi zone across our time period\n",
    "    Expected Earnings is defined as the multiple of the Average Daily Average Total of a Zone\n",
    "    and the Average Daily Pickup \n",
    "    '''\n",
    "    \n",
    "    #Caculate the average pickup count per zone\n",
    "    sdfZoneDailyPU = sdf.groupBy(\"PUDate\", \"PULocationID\").count()\n",
    "    sdfZoneAvgDailyPU = sdfZoneDailyPU.groupBy(\"PULocationID\").sum(\"count\")\n",
    "    \n",
    "    #difference division based on whether its weekend or weekday (52 days and 40 days respectively)\n",
    "    if (weekend):\n",
    "        sdfZoneAvgDailyPU = sdfZoneAvgDailyPU.withColumn(\"AvgDailyPU\", \n",
    "                                                         sdfZoneAvgDailyPU['sum(count)'] / 40.0) \\\n",
    "        .drop(\"sum(count)\")\n",
    "    else:\n",
    "        sdfZoneAvgDailyPU = sdfZoneAvgDailyPU.withColumn(\"AvgDailyPU\", \n",
    "                                                         sdfZoneAvgDailyPU['sum(count)'] / 52.0) \\\n",
    "        .drop(\"sum(count)\")\n",
    "    \n",
    "    #Calculate the average Daily Average total per zone\n",
    "    sdfZoneDailyAvg = sdf.groupBy(\"PUDate\",\"PULocationID\").avg('total_amount')\n",
    "    \n",
    "    sdfZoneAvgDailyTot = sdfZoneDailyAvg.groupBy(\"PULocationID\").sum(\"avg(total_amount)\")\n",
    "    if (weekend):\n",
    "        sdfZoneAvgDailyTot = sdfZoneAvgDailyTot.withColumn(\"ExpectedDailyAvg\", \n",
    "                                                           sdfZoneAvgDailyTot[\"sum(avg(total_amount))\"] / 40.0) \\\n",
    "        .drop(\"sum(avg(total_amount))\")\n",
    "    else:\n",
    "        sdfZoneAvgDailyTot = sdfZoneAvgDailyTot.withColumn(\"ExpectedDailyAvg\", \n",
    "                                                           sdfZoneAvgDailyTot[\"sum(avg(total_amount))\"] / 52.0) \\\n",
    "        .drop(\"sum(avg(total_amount))\")\n",
    "    \n",
    "    # Calculate the Expected Earnings as defined in the docstring\n",
    "    sdfExpEarnings = sdfZoneAvgDailyTot.join(sdfZoneAvgDailyPU, \n",
    "                                             sdfZoneAvgDailyTot.PULocationID == sdfZoneAvgDailyPU.PULocationID, \n",
    "                                             \"inner\") \\\n",
    "    .drop(sdfZoneAvgDailyPU.PULocationID)\n",
    "    \n",
    "    sdfExpEarnings = sdfExpEarnings.withColumn(\"ExpectedEarnings\",\n",
    "                                                sdfExpEarnings.ExpectedDailyAvg * sdfExpEarnings.AvgDailyPU)\\\n",
    "    .drop(\"AvgDailyPU\")\\\n",
    "    .drop(\"ExpectedDailyAvg\")\n",
    "    \n",
    "    # Join the data to the zone lookup table based on LocationID and PULocationID\n",
    "    sdfExpEarnings = sdfExpEarnings.join(sdfZoneLookup, \n",
    "                                         sdfZoneLookup.LocationID == sdfExpEarnings.PULocationID, \n",
    "                                         \"inner\") \\\n",
    "    .drop(\"Zone\") \\\n",
    "    .drop(\"service_zone\") \\\n",
    "    .drop(\"LocationID\")\n",
    "    \n",
    "    # Calculate the log transform of the Expected Earnings as well for better visualisation\n",
    "    sdfExpEarnings = sdfExpEarnings.withColumn(\"logEE\", F.log(sdfExpEarnings.ExpectedEarnings))\n",
    "    \n",
    "    return sdfExpEarnings\n",
    "\n",
    "dfWDExpEarnings = zoneExpectedEarnings(sdfWeekdays, False).toPandas()\n",
    "dfWEExpEarnings = zoneExpectedEarnings(sdfWeekends, True).toPandas()"
   ]
  },
  {
   "cell_type": "code",
   "execution_count": 1,
   "metadata": {},
   "outputs": [
    {
     "ename": "NameError",
     "evalue": "name 'sdfZoneLookup' is not defined",
     "output_type": "error",
     "traceback": [
      "\u001b[0;31m---------------------------------------------------------------------------\u001b[0m",
      "\u001b[0;31mNameError\u001b[0m                                 Traceback (most recent call last)",
      "\u001b[0;32m/tmp/ipykernel_377/3792719765.py\u001b[0m in \u001b[0;36m<module>\u001b[0;34m\u001b[0m\n\u001b[1;32m      4\u001b[0m \u001b[0;34m\u001b[0m\u001b[0m\n\u001b[1;32m      5\u001b[0m \u001b[0msf\u001b[0m \u001b[0;34m=\u001b[0m \u001b[0mgpd\u001b[0m\u001b[0;34m.\u001b[0m\u001b[0mread_file\u001b[0m\u001b[0;34m(\u001b[0m\u001b[0;34m\"./raw_data/taxi_zones/taxi_zones.shp\"\u001b[0m\u001b[0;34m)\u001b[0m\u001b[0;34m\u001b[0m\u001b[0;34m\u001b[0m\u001b[0m\n\u001b[0;32m----> 6\u001b[0;31m \u001b[0mpdZoneLookup\u001b[0m \u001b[0;34m=\u001b[0m \u001b[0msdfZoneLookup\u001b[0m\u001b[0;34m.\u001b[0m\u001b[0mtoPandas\u001b[0m\u001b[0;34m(\u001b[0m\u001b[0;34m)\u001b[0m\u001b[0;34m\u001b[0m\u001b[0;34m\u001b[0m\u001b[0m\n\u001b[0m\u001b[1;32m      7\u001b[0m \u001b[0;34m\u001b[0m\u001b[0m\n\u001b[1;32m      8\u001b[0m \u001b[0;31m# Following line of code taken from Akira, Lab 2 of MAST30034 2021 and converts the shapefile boundaries to coordinates\u001b[0m\u001b[0;34m\u001b[0m\u001b[0;34m\u001b[0m\u001b[0;34m\u001b[0m\u001b[0m\n",
      "\u001b[0;31mNameError\u001b[0m: name 'sdfZoneLookup' is not defined"
     ]
    }
   ],
   "source": [
    "import geopandas as gpd\n",
    "import pandas as pd\n",
    "import folium\n",
    "\n",
    "sf = gpd.read_file(\"./raw_data/taxi_zones/taxi_zones.shp\")\n",
    "pdZoneLookup = sdfZoneLookup.toPandas()\n",
    "\n",
    "# Following line of code taken from Akira, Lab 2 of MAST30034 2021 and converts the shapefile boundaries to coordinates\n",
    "sf['geometry'] = sf['geometry'].to_crs(\"+proj=longlat +ellps=WGS84 +datum=WGS84 +no_defs\")"
   ]
  },
  {
   "cell_type": "code",
   "execution_count": 7,
   "metadata": {},
   "outputs": [],
   "source": [
    "# Mapping logEE of each zone during weekdays\n",
    "gdf = gpd.GeoDataFrame(pd.merge(dfWDExpEarnings, sf, left_on='PULocationID',\n",
    "                                right_on='LocationID')).drop('LocationID',axis=1)\n",
    "WDGeoJSON = gdf[['PULocationID','geometry']].drop_duplicates('PULocationID').to_json()\n",
    "\n",
    "m = folium.Map(location=[40.66, -73.94], tiles=\"Stamen Terrain\", zoom_start=10)\n",
    "\n",
    "m.add_child(folium.Choropleth(geo_data= WDGeoJSON, \n",
    "                              data= dfWDExpEarnings,\n",
    "                              columns=['PULocationID', 'logEE'],\n",
    "                              key_on='feature.properties.PULocationID', \n",
    "                              threshold_scale = [-6, -1, 4, 7, 10, 13],\n",
    "                              fill_color = 'YlGnBu'))\n",
    "\n",
    "m.save('./plots/weekdaysEEMap.html')"
   ]
  },
  {
   "cell_type": "code",
   "execution_count": 8,
   "metadata": {},
   "outputs": [],
   "source": [
    "# Mapping logEE of each zone during weekends\n",
    "gdf2 = gpd.GeoDataFrame(pd.merge(dfWEExpEarnings, sf, left_on='PULocationID',\n",
    "                                 right_on='LocationID')).drop('LocationID',axis=1)\n",
    "WEGeoJSON = gdf2[['PULocationID','geometry']].drop_duplicates('PULocationID').to_json()\n",
    "\n",
    "m2 = folium.Map(location=[40.66, -73.94], tiles=\"Stamen Terrain\", zoom_start=10)\n",
    "\n",
    "# refer to the folium documentations on how to plot aggregated data.\n",
    "m2.add_child(folium.Choropleth(geo_data= WEGeoJSON, \n",
    "                              data= dfWEExpEarnings,\n",
    "                              columns=['PULocationID', 'logEE'],\n",
    "                              key_on='feature.properties.PULocationID',\n",
    "                              threshold_scale = [-6, -1, 4, 7, 10, 13],\n",
    "                              fill_color = 'YlGnBu'))\n",
    "\n",
    "m2.save('./plots/weekendsEEMap.html')"
   ]
  },
  {
   "cell_type": "code",
   "execution_count": 9,
   "metadata": {},
   "outputs": [
    {
     "data": {
      "image/png": "[encoded data removed]",
      "text/plain": [
       "<Figure size 432x288 with 1 Axes>"
      ]
     },
     "metadata": {
      "needs_background": "light"
     },
     "output_type": "display_data"
    }
   ],
   "source": [
    "from matplotlib import *\n",
    "from matplotlib import pyplot\n",
    "\n",
    "# boxplot the logEE of weekdays vs weekends\n",
    "\n",
    "dfWDExpEarnings['Weekend'] = 'Weekday'\n",
    "dfWEExpEarnings['Weekend'] = 'Weekend'\n",
    "\n",
    "concatEE = pd.concat([dfWDExpEarnings, dfWEExpEarnings])\n",
    "\n",
    "bxplt = concatEE[['logEE', 'Weekend']].boxplot(by=\"Weekend\")\n",
    "bxplt.set_title(\"Log Transform of Expected Earnings Weekdays vs Weekends\")\n",
    "bxplt.get_figure().suptitle('')\n",
    "\n",
    "pyplot.savefig(\"./plots/logEE.jpg\", bbox_inches = 'tight')"
   ]
  },
  {
   "cell_type": "code",
   "execution_count": 10,
   "metadata": {},
   "outputs": [],
   "source": [
    "sdfWeather = spark.read.csv('./raw_data/weather_data_JunToAug.csv', header=True)\n",
    " \n",
    "# read in the weather data and take the readings from the Laguaradia Airport\n",
    "\n",
    "laguardiaCode = \"USW00014732\"\n",
    "\n",
    "doubles = ('LATITUDE', 'LONGITUDE', 'ELEVATION', 'AWND', 'PRCP', \n",
    "           'SNOW', 'SNWD', 'TAVG', 'TMAX', 'TMIN')\n",
    "strings = ('STATION', 'NAME')\n",
    "dates = ['DATE']\n",
    "dtypes = {column: DoubleType() for column in doubles}\n",
    "dtypes.update({column: StringType() for column in strings})\n",
    "dtypes.update({column: DateType() for column in dates})\n",
    "\n",
    "setSchema = StructType()\n",
    "for column in sdfWeather.columns:\n",
    "    setSchema.add(column,\n",
    "                  dtypes[column],\n",
    "                  True)\n",
    "    \n",
    "# Attach a schema to the weather data\n",
    "sdfWeather = spark.read.csv('./raw_data/weather_data_JunToAug.csv', \n",
    "                            header=True, schema=setSchema)\n",
    "\n",
    "# drop the irrelevant columns\n",
    "sdfWeather = sdfWeather.drop(\"NAME\") \\\n",
    ".drop('LATITUDE') \\\n",
    ".drop('LONGITUDE') \\\n",
    ".drop(\"ELEVATION\") \\\n",
    ".filter(sdfWeather.STATION == laguardiaCode)"
   ]
  },
  {
   "cell_type": "code",
   "execution_count": 11,
   "metadata": {
    "scrolled": true
   },
   "outputs": [
    {
     "name": "stderr",
     "output_type": "stream",
     "text": [
      "                                                                                \r"
     ]
    },
    {
     "data": {
      "image/png": "[encoded data removed]",
      "text/plain": [
       "<Figure size 432x288 with 1 Axes>"
      ]
     },
     "metadata": {
      "needs_background": "light"
     },
     "output_type": "display_data"
    },
    {
     "data": {
      "image/png": "[encoded data removed]",
      "text/plain": [
       "<Figure size 432x288 with 1 Axes>"
      ]
     },
     "metadata": {
      "needs_background": "light"
     },
     "output_type": "display_data"
    },
    {
     "data": {
      "image/png": "[encoded data removed]",
      "text/plain": [
       "<Figure size 432x288 with 1 Axes>"
      ]
     },
     "metadata": {
      "needs_background": "light"
     },
     "output_type": "display_data"
    },
    {
     "data": {
      "image/png": "[encoded data removed]",
      "text/plain": [
       "<Figure size 432x288 with 1 Axes>"
      ]
     },
     "metadata": {
      "needs_background": "light"
     },
     "output_type": "display_data"
    }
   ],
   "source": [
    "def borDailyEarnings(sdf):\n",
    "    '''\n",
    "    Calculate the DailyEarnings of each borough.\n",
    "    DailyEarnings of a Borough is defined as the daily pickup count of a borough multiplied\n",
    "    by the daily average total amount per trip\n",
    "    '''\n",
    "    # Join up up the table to the zone lookup table\n",
    "    sdf2 = sdf.join(sdfZoneLookup, sdfZoneLookup.LocationID == sdf.PULocationID, \"inner\") \\\n",
    "    .drop(\"Zone\") \\\n",
    "    .drop(\"service_zone\") \\\n",
    "    .drop(\"LocationID\")\n",
    "    \n",
    "    \n",
    "    # calculate the daily pickup count per borough\n",
    "    sdfBorDailyPU = sdf2.groupBy(\"PUDate\", \"Borough\").count()\n",
    "    \n",
    "    sdfBorDailyPU = sdfBorDailyPU.join(sdfWeather, \n",
    "                                       sdfWeather.DATE == sdfBorDailyPU.PUDate, \"inner\") \\\n",
    "    .drop(\"DATE\") \\\n",
    "    .drop(\"STATION\")\n",
    "    \n",
    "    # calculate the average total amount per trip for each borough\n",
    "    sdfBorAvgTot = sdf2.groupBy(\"PUDate\", \"Borough\").avg(\"total_amount\")\n",
    "    sdfBorAvgTot = sdfBorAvgTot.withColumnRenamed(\"avg(total_amount)\", \"AvgTot\")\n",
    "    \n",
    "    # calculate the DailyEarnings as defined in the docstring\n",
    "    sdfBor = sdfBorAvgTot.join(sdfBorDailyPU, \n",
    "                               ((sdfBorAvgTot.PUDate == sdfBorDailyPU.PUDate) & \n",
    "                                (sdfBorAvgTot.Borough == sdfBorDailyPU.Borough)), \n",
    "                               \"inner\") \\\n",
    "    .drop(sdfBorAvgTot.PUDate) \\\n",
    "    .drop(sdfBorAvgTot.Borough)\n",
    "    \n",
    "    sdfBor = sdfBor.withColumn(\"DailyEarnings\",\n",
    "                               sdfBor[\"count\"] * sdfBor[\"AvgTot\"])\\\n",
    "    .drop(\"count\")\\\n",
    "    .drop(\"AvgTot\")\n",
    "    \n",
    "    # calculate the log transform of the DailyEarnings\n",
    "    sdfBor = sdfBor.withColumn(\"logDE\", F.log(sdfBor.DailyEarnings))\n",
    "    \n",
    "    return sdfBor\n",
    "\n",
    "\n",
    "def PRCPvsX(sdf, X, Week):\n",
    "    '''\n",
    "    Function to plot the precipitation levels of a particular day\n",
    "    against X\n",
    "    '''\n",
    "    sdfWDAvgDayX = sdf.groupBy(\"PUDate\").avg(X)\n",
    "    sdfWDAvgDayPrcp = sdf.groupBy(\"PUDate\").avg(\"PRCP\")\n",
    "    dfWDAvgDay = sdfWDAvgDayX.join(sdfWDAvgDayPrcp, \n",
    "                                   sdfWDAvgDayPrcp.PUDate == sdfWDAvgDayX.PUDate, \n",
    "                                   \"inner\") \\\n",
    "    .drop(sdfWDAvgDayX.PUDate) \\\n",
    "    .toPandas()\n",
    "\n",
    "    plot = dfWDAvgDay.plot.scatter(x = \"avg(PRCP)\", y = \"avg(\" + X + \")\")\n",
    "    plot.set(title = \"Avg Rain level (mm) VS Avg \" + X + \" for \" + Week,\n",
    "             xlabel = \"Rain level (mm)\",\n",
    "             ylabel = X)\n",
    "    \n",
    "    if (X == \"DailyEarnings\"):\n",
    "        axes = pyplot.gca()\n",
    "        axes.set_xlim([0,45])\n",
    "        axes.set_ylim([0,800000])\n",
    "    else:\n",
    "        axes = pyplot.gca()\n",
    "        axes.set_xlim([0,45])\n",
    "        axes.set_ylim([0,11])\n",
    "    \n",
    "    \n",
    "    figure = plot.get_figure()\n",
    "    figure.savefig('./plots/'+Week+X+'.jpg', bbox_inches='tight')\n",
    "    \n",
    "    return plot\n",
    "\n",
    "sdfBorWeekdays = borDailyEarnings(sdfWeekdays)\n",
    "plot = PRCPvsX(sdfBorWeekdays, \"DailyEarnings\", \"Weekdays\")\n",
    "plot = PRCPvsX(sdfBorWeekdays, \"logDE\", \"Weekdays\")\n",
    "\n",
    "\n",
    "sdfBorWeekends = borDailyEarnings(sdfWeekends)\n",
    "plot = PRCPvsX(sdfBorWeekends, \"DailyEarnings\", \"Weekends\")\n",
    "plot = PRCPvsX(sdfBorWeekends, \"logDE\", \"Weekends\")"
   ]
  },
  {
   "cell_type": "code",
   "execution_count": 12,
   "metadata": {},
   "outputs": [
    {
     "name": "stderr",
     "output_type": "stream",
     "text": [
      "                                                                                \r"
     ]
    },
    {
     "data": {
      "image/png": "[encoded data removed]",
      "text/plain": [
       "<Figure size 432x288 with 1 Axes>"
      ]
     },
     "metadata": {
      "needs_background": "light"
     },
     "output_type": "display_data"
    },
    {
     "data": {
      "image/png": "[encoded data removed]",
      "text/plain": [
       "<Figure size 432x288 with 1 Axes>"
      ]
     },
     "metadata": {
      "needs_background": "light"
     },
     "output_type": "display_data"
    }
   ],
   "source": [
    "import seaborn as sns\n",
    "\n",
    "# plot the histogram of logDE on weekdays and weekends to visually\n",
    "# inspedt their distribution\n",
    "\n",
    "def sturges(x):\n",
    "    from numpy import log2\n",
    "    return int(log2(x)) + 1\n",
    "\n",
    "N = sdfBorWeekdays.count()\n",
    "N2 = sdfBorWeekends.count()\n",
    "\n",
    "dfWD = sdfBorWeekdays.toPandas()\n",
    "dfWE = sdfBorWeekends.toPandas()\n",
    "\n",
    "# bin the histograms according to the Sturges method\n",
    "fig1 = sns.distplot(dfWD['logDE'], bins=sturges(N))\n",
    "pyplot.title(\"Distribution of LogDE on Weekdays\")\n",
    "pyplot.show()\n",
    "\n",
    "fig2 = sns.distplot(dfWE['logDE'], bins=sturges(N2))\n",
    "pyplot.title(\"Distribution of LogDE on Weekends\")\n",
    "pyplot.show()\n",
    "\n",
    "fig1.get_figure().savefig('./plots/logDEWeekdays.jpg')\n",
    "fig2.get_figure().savefig('./plots/logDEWeekends.jpg')"
   ]
  },
  {
   "cell_type": "code",
   "execution_count": 13,
   "metadata": {},
   "outputs": [],
   "source": [
    "# drop the unnecessary columns from the two data frames\n",
    "\n",
    "sdfBorWeekdays = sdfBorWeekdays.drop(\"AWND\") \\\n",
    ".drop(\"PRCP\") \\\n",
    ".drop(\"SNOW\") \\\n",
    ".drop(\"SNWD\") \\\n",
    ".drop(\"TAVG\") \\\n",
    ".drop(\"TMAX\") \\\n",
    ".drop(\"TMIN\")\n",
    "\n",
    "sdfBorWeekends = sdfBorWeekends.drop(\"AWND\") \\\n",
    ".drop(\"PRCP\") \\\n",
    ".drop(\"SNOW\") \\\n",
    ".drop(\"SNWD\") \\\n",
    ".drop(\"TAVG\") \\\n",
    ".drop(\"TMAX\") \\\n",
    ".drop(\"TMIN\")"
   ]
  },
  {
   "cell_type": "code",
   "execution_count": 21,
   "metadata": {
    "scrolled": true
   },
   "outputs": [
    {
     "name": "stderr",
     "output_type": "stream",
     "text": [
      "                                                                                \r"
     ]
    }
   ],
   "source": [
    "# Join up the data again and convert to feather for analysis in R\n",
    "\n",
    "dfWD = sdfBorWeekdays.toPandas()\n",
    "dfWE = sdfBorWeekends.toPandas()\n",
    "dfWD[\"Weekend\"] = False\n",
    "dfWE['Weekend'] = True\n",
    "\n",
    "concatBoroughs = pd.concat([dfWD, dfWE]).reset_index().drop(\"index\", axis = 1)\n",
    "concatBoroughs.to_feather('./preprocessed_data/boroughsDailyEarnings.feather')"
   ]
  },
  {
   "cell_type": "code",
   "execution_count": 31,
   "metadata": {},
   "outputs": [
    {
     "name": "stderr",
     "output_type": "stream",
     "text": [
      "21/08/10 20:51:59 WARN MemoryManager: Total allocation exceeds 95.00% (906,992,014 bytes) of heap memory\n",
      "Scaling row group sizes to 96.54% for 7 writers\n",
      "21/08/10 20:51:59 WARN MemoryManager: Total allocation exceeds 95.00% (906,992,014 bytes) of heap memory\n",
      "Scaling row group sizes to 84.47% for 8 writers\n",
      "21/08/10 20:52:00 WARN MemoryManager: Total allocation exceeds 95.00% (906,992,014 bytes) of heap memory\n",
      "Scaling row group sizes to 96.54% for 7 writers\n",
      "21/08/10 20:52:00 WARN MemoryManager: Total allocation exceeds 95.00% (906,992,014 bytes) of heap memory\n",
      "Scaling row group sizes to 96.54% for 7 writers\n",
      "21/08/10 20:52:00 WARN MemoryManager: Total allocation exceeds 95.00% (906,992,014 bytes) of heap memory\n",
      "Scaling row group sizes to 84.47% for 8 writers\n",
      "21/08/10 20:52:00 WARN MemoryManager: Total allocation exceeds 95.00% (906,992,014 bytes) of heap memory\n",
      "Scaling row group sizes to 96.54% for 7 writers\n",
      "                                                                                \r"
     ]
    }
   ],
   "source": [
    "saveToParquet(sdfBorWeekdays, './preprocessed_data/WDBor.parquet')\n",
    "saveToParquet(sdfBorWeekends, './preprocessed_data/WEBor.parquet')"
   ]
  }
 ],
 "metadata": {
  "kernelspec": {
   "display_name": "Python 3 (ipykernel)",
   "language": "python",
   "name": "python3"
  },
  "language_info": {
   "codemirror_mode": {
    "name": "ipython",
    "version": 3
   },
   "file_extension": ".py",
   "mimetype": "text/x-python",
   "name": "python",
   "nbconvert_exporter": "python",
   "pygments_lexer": "ipython3",
   "version": "3.8.10"
  },
  "varInspector": {
   "cols": {
    "lenName": 16,
    "lenType": 16,
    "lenVar": 40
   },
   "kernels_config": {
    "python": {
     "delete_cmd_postfix": "",
     "delete_cmd_prefix": "del ",
     "library": "var_list.py",
     "varRefreshCmd": "print(var_dic_list())"
    },
    "r": {
     "delete_cmd_postfix": ") ",
     "delete_cmd_prefix": "rm(",
     "library": "var_list.r",
     "varRefreshCmd": "cat(var_dic_list()) "
    }
   },
   "types_to_exclude": [
    "module",
    "function",
    "builtin_function_or_method",
    "instance",
    "_Feature"
   ],
   "window_display": false
  }
 },
 "nbformat": 4,
 "nbformat_minor": 4
}
