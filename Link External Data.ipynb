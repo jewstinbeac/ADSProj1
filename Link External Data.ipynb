{
 "cells": [
  {
   "cell_type": "code",
   "execution_count": 1,
   "metadata": {},
   "outputs": [
    {
     "name": "stderr",
     "output_type": "stream",
     "text": [
      "21/08/09 16:27:59 WARN Utils: Your hostname, KAGE-LAPTOP resolves to a loopback address: 127.0.1.1; using 172.19.177.133 instead (on interface eth0)\n",
      "21/08/09 16:27:59 WARN Utils: Set SPARK_LOCAL_IP if you need to bind to another address\n",
      "21/08/09 16:28:00 WARN NativeCodeLoader: Unable to load native-hadoop library for your platform... using builtin-java classes where applicable\n",
      "Using Spark's default log4j profile: org/apache/spark/log4j-defaults.properties\n",
      "Setting default log level to \"WARN\".\n",
      "To adjust logging level use sc.setLogLevel(newLevel). For SparkR, use setLogLevel(newLevel).\n",
      "INFO:SparkMonitorKernel:Client Connected ('127.0.0.1', 43938)\n"
     ]
    },
    {
     "name": "stdout",
     "output_type": "stream",
     "text": [
      "Created Spark Context\n",
      "Created Spark Session\n",
      "Set Good Looking Dataframes\n",
      "Using Apache Arrow\n"
     ]
    }
   ],
   "source": [
    "from pyspark import SparkContext\n",
    "from pyspark.sql import SparkSession\n",
    "import warnings\n",
    "\n",
    "warnings.filterwarnings(\"ignore\")\n",
    "\n",
    "# Start the spark context\n",
    "sc = SparkContext.getOrCreate(conf=swan_spark_conf) \n",
    "print(\"Created Spark Context\")\n",
    "\n",
    "# create a spark session (which will run spark jobs)\n",
    "spark = SparkSession.builder.getOrCreate()\n",
    "print(\"Created Spark Session\")\n",
    "\n",
    "#  set good looking dataframes\n",
    "spark.conf.set('spark.sql.repl.eagerEval.enabled', True)\n",
    "print(\"Set Good Looking Dataframes\")\n",
    "\n",
    "# use Apache Arrow\n",
    "spark.conf.set('spark.sql.execution.arrow.pyspark.enabled', True)\n",
    "print(\"Using Apache Arrow\")"
   ]
  },
  {
   "cell_type": "code",
   "execution_count": 2,
   "metadata": {},
   "outputs": [
    {
     "name": "stderr",
     "output_type": "stream",
     "text": [
      "                                                                                \r"
     ]
    }
   ],
   "source": [
    "sdfWeekdays = spark.read.parquet('./preprocessed_data/weekdayRemovedInvalids.parquet')\n",
    "sdfWeekends = spark.read.parquet('./preprocessed_data/weekendsRemovedInvalids.parquet')\n",
    "sdfZoneLookup = spark.read.csv('./raw_data/taxi_zone_lookup.csv', header=True)"
   ]
  },
  {
   "cell_type": "code",
   "execution_count": 3,
   "metadata": {},
   "outputs": [],
   "source": [
    "from pyspark.sql import functions as F\n",
    "from pyspark.sql.types import *\n",
    "from pyspark.sql import DataFrame as D\n",
    "\n",
    "ints = ['LocationID']\n",
    "strings = ('Borough', 'Zone', 'service_zone')\n",
    "dtypes = {column: IntegerType() for column in ints}\n",
    "dtypes.update({column: StringType() for column in strings})\n",
    "\n",
    "setSchema = StructType()\n",
    "for column in sdfZoneLookup.columns:\n",
    "    setSchema.add(column,\n",
    "                  dtypes[column],\n",
    "                  True)\n",
    "    \n",
    "sdfZoneLookup = spark.read.csv('./raw_data/taxi_zone_lookup.csv', header=True, schema=setSchema)"
   ]
  },
  {
   "cell_type": "code",
   "execution_count": 4,
   "metadata": {},
   "outputs": [
    {
     "name": "stderr",
     "output_type": "stream",
     "text": [
      "                                                                                \r"
     ]
    },
    {
     "name": "stdout",
     "output_type": "stream",
     "text": [
      "265\n",
      "[Row(LocationID=261, Borough='Manhattan', Zone='World Trade Center', service_zone='Yellow Zone'), Row(LocationID=262, Borough='Manhattan', Zone='Yorkville East', service_zone='Yellow Zone'), Row(LocationID=263, Borough='Manhattan', Zone='Yorkville West', service_zone='Yellow Zone'), Row(LocationID=264, Borough='Unknown', Zone='NV', service_zone='N/A'), Row(LocationID=265, Borough='Unknown', Zone='NA', service_zone='N/A')]\n"
     ]
    }
   ],
   "source": [
    "print(sdfZoneLookup.select('LocationID').distinct().count())\n",
    "\n",
    "#There are 265 LocationIDs but the data dictionary tells us there should only be 263\n",
    "\n",
    "print(sdfZoneLookup.orderBy('LocationID').tail(5))\n",
    "\n",
    "#On closer inspection, zones 264 and 265 seem to be invalid -> We drop them\n",
    "\n",
    "sdfZoneLookup = sdfZoneLookup.filter(sdfZoneLookup.LocationID.isin(list(range(1,264))))"
   ]
  },
  {
   "cell_type": "code",
   "execution_count": 233,
   "metadata": {},
   "outputs": [
    {
     "name": "stderr",
     "output_type": "stream",
     "text": [
      "                                                                                \r"
     ]
    },
    {
     "data": {
      "text/plain": [
       "255"
      ]
     },
     "execution_count": 233,
     "metadata": {},
     "output_type": "execute_result"
    }
   ],
   "source": [
    "def zoneExpectedEarnings(sdf, weekend):\n",
    "    sdfZoneDailyPU = sdf.groupBy(\"PUDate\", \"PULocationID\").count()\n",
    "    sdfZoneAvgDailyPU = sdfZoneDailyPU.groupBy(\"PULocationID\").sum(\"count\")\n",
    "    if (weekend):\n",
    "        sdfZoneAvgDailyPU = sdfZoneAvgDailyPU.withColumn(\"AvgDailyPU\", sdfZoneAvgDailyPU['sum(count)'] / 40.0) \\\n",
    "        .drop(\"sum(count)\")\n",
    "    else:\n",
    "        sdfZoneAvgDailyPU = sdfZoneAvgDailyPU.withColumn(\"AvgDailyPU\", sdfZoneAvgDailyPU['sum(count)'] / 52.0) \\\n",
    "        .drop(\"sum(count)\")\n",
    "    \n",
    "    sdfZoneDailyAvg = sdf.groupBy(\"PUDate\",\"PULocationID\").avg('total_amount')\n",
    "    sdfZoneAvgDailyTot = sdfZoneDailyAvg.groupBy(\"PULocationID\").sum(\"avg(total_amount)\")\n",
    "    if (weekend):\n",
    "        sdfZoneAvgDailyTot = sdfZoneAvgDailyTot.withColumn(\"ExpectedDailyAvg\", \n",
    "                                                           sdfZoneAvgDailyTot[\"sum(avg(total_amount))\"] / 40.0) \\\n",
    "        .drop(\"sum(avg(total_amount))\")\n",
    "    else:\n",
    "        sdfZoneAvgDailyTot = sdfZoneAvgDailyTot.withColumn(\"ExpectedDailyAvg\", \n",
    "                                                           sdfZoneAvgDailyTot[\"sum(avg(total_amount))\"] / 52.0) \\\n",
    "        .drop(\"sum(avg(total_amount))\")\n",
    "    \n",
    "    \n",
    "    sdfExpEarnings = sdfZoneAvgDailyTot.join(sdfZoneAvgDailyPU, \n",
    "                                             sdfZoneAvgDailyTot.PULocationID == sdfZoneAvgDailyPU.PULocationID, \n",
    "                                             \"inner\") \\\n",
    "    .drop(sdfZoneAvgDailyPU.PULocationID)\n",
    "    \n",
    "    sdfExpEarnings = sdfExpEarnings.withColumn(\"ExpectedEarnings\",\n",
    "                                                sdfExpEarnings.ExpectedDailyAvg * sdfExpEarnings.AvgDailyPU)\\\n",
    "    .drop(\"AvgDailyPU\")\\\n",
    "    .drop(\"ExpectedDailyAvg\")\n",
    "    \n",
    "    sdfExpEarnings = sdfExpEarnings.join(sdfZoneLookup, \n",
    "                                         sdfZoneLookup.LocationID == sdfExpEarnings.PULocationID, \n",
    "                                         \"inner\") \\\n",
    "    .drop(\"Zone\") \\\n",
    "    .drop(\"service_zone\") \\\n",
    "    .drop(\"LocationID\")\n",
    "    \n",
    "    sdfExpEarnings = sdfExpEarnings.withColumn(\"logEE\", F.log(sdfExpEarnings.ExpectedEarnings))\n",
    "    \n",
    "    return sdfExpEarnings\n",
    "\n",
    "dfWDExpEarnings = zoneExpectedEarnings(sdfWeekdays, False).toPandas()\n",
    "dfWEExpEarnings = zoneExpectedEarnings(sdfWeekends, True).toPandas()"
   ]
  },
  {
   "cell_type": "code",
   "execution_count": 224,
   "metadata": {},
   "outputs": [],
   "source": [
    "import geopandas as gpd\n",
    "import pandas as pd\n",
    "import folium\n",
    "\n",
    "sf = gpd.read_file(\"./raw_data/taxi_zones/taxi_zones.shp\")\n",
    "pdZoneLookup = sdfZoneLookup.toPandas()\n",
    "\n",
    "# Following line of code taken from Lab 2 of MAST30034 and converts the shapefile boundaries to coordinates\n",
    "sf['geometry'] = sf['geometry'].to_crs(\"+proj=longlat +ellps=WGS84 +datum=WGS84 +no_defs\")"
   ]
  },
  {
   "cell_type": "code",
   "execution_count": 225,
   "metadata": {},
   "outputs": [],
   "source": [
    "gdf = gpd.GeoDataFrame(pd.merge(dfWDExpEarnings, sf, left_on='PULocationID', right_on='LocationID')).drop('LocationID',axis=1)\n",
    "WDGeoJSON = gdf[['PULocationID','geometry']].drop_duplicates('PULocationID').to_json()"
   ]
  },
  {
   "cell_type": "code",
   "execution_count": 226,
   "metadata": {},
   "outputs": [],
   "source": [
    "m = folium.Map(location=[40.66, -73.94], tiles=\"Stamen Terrain\", zoom_start=10)\n",
    "\n",
    "# refer to the folium documentations on how to plot aggregated data.\n",
    "m.add_child(folium.Choropleth(geo_data= WDGeoJSON, \n",
    "                              data= dfWDExpEarnings,\n",
    "                              columns=['PULocationID', 'logEE'],\n",
    "                              key_on='feature.properties.PULocationID', \n",
    "                              threshold_scale = [-6, -1, 4, 7, 10, 13],\n",
    "                              fill_color = 'YlGnBu'))\n",
    "\n",
    "m.save('./plots/weekdaysEEMap.html')"
   ]
  },
  {
   "cell_type": "code",
   "execution_count": 227,
   "metadata": {},
   "outputs": [],
   "source": [
    "gdf2 = gpd.GeoDataFrame(pd.merge(dfWEExpEarnings, sf, left_on='PULocationID', right_on='LocationID')).drop('LocationID',axis=1)\n",
    "WEGeoJSON = gdf2[['PULocationID','geometry']].drop_duplicates('PULocationID').to_json()\n",
    "\n",
    "m2 = folium.Map(location=[40.66, -73.94], tiles=\"Stamen Terrain\", zoom_start=10)\n",
    "\n",
    "# refer to the folium documentations on how to plot aggregated data.\n",
    "m2.add_child(folium.Choropleth(geo_data= WEGeoJSON, \n",
    "                              data= dfWEExpEarnings,\n",
    "                              columns=['PULocationID', 'logEE'],\n",
    "                              key_on='feature.properties.PULocationID',\n",
    "                              threshold_scale = [-6, -1, 4, 7, 10, 13],\n",
    "                              fill_color = 'YlGnBu'))\n",
    "\n",
    "m2.save('./plots/weekendsEEMap.html')"
   ]
  },
  {
   "cell_type": "code",
   "execution_count": 228,
   "metadata": {},
   "outputs": [
    {
     "data": {
      "image/png": "[encoded data removed]",
      "text/plain": [
       "<Figure size 432x288 with 1 Axes>"
      ]
     },
     "metadata": {
      "needs_background": "light"
     },
     "output_type": "display_data"
    }
   ],
   "source": [
    "from matplotlib import *\n",
    "\n",
    "dfWDExpEarnings['Weekend'] = 'Weekday'\n",
    "dfWEExpEarnings['Weekend'] = 'Weekend'\n",
    "\n",
    "concatEE = pd.concat([dfWDExpEarnings, dfWEExpEarnings])\n",
    "\n",
    "bxplt = concatEE[['logEE', 'Weekend']].boxplot(by=\"Weekend\")\n",
    "bxplt.set_title(\"Log Transform of Expected Earnings Weekdays vs Weekends\")\n",
    "bxplt.get_figure().suptitle('')\n",
    "\n",
    "pyplot.savefig(\"./plots/logEE.jpg\", bbox_inches = 'tight')"
   ]
  },
  {
   "cell_type": "code",
   "execution_count": null,
   "metadata": {},
   "outputs": [],
   "source": []
  }
 ],
 "metadata": {
  "kernelspec": {
   "display_name": "Python 3 (ipykernel)",
   "language": "python",
   "name": "python3"
  },
  "language_info": {
   "codemirror_mode": {
    "name": "ipython",
    "version": 3
   },
   "file_extension": ".py",
   "mimetype": "text/x-python",
   "name": "python",
   "nbconvert_exporter": "python",
   "pygments_lexer": "ipython3",
   "version": "3.8.10"
  },
  "varInspector": {
   "cols": {
    "lenName": 16,
    "lenType": 16,
    "lenVar": 40
   },
   "kernels_config": {
    "python": {
     "delete_cmd_postfix": "",
     "delete_cmd_prefix": "del ",
     "library": "var_list.py",
     "varRefreshCmd": "print(var_dic_list())"
    },
    "r": {
     "delete_cmd_postfix": ") ",
     "delete_cmd_prefix": "rm(",
     "library": "var_list.r",
     "varRefreshCmd": "cat(var_dic_list()) "
    }
   },
   "types_to_exclude": [
    "module",
    "function",
    "builtin_function_or_method",
    "instance",
    "_Feature"
   ],
   "window_display": false
  }
 },
 "nbformat": 4,
 "nbformat_minor": 4
}
