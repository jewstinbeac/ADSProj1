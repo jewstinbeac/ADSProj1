{
 "cells": [
  {
   "cell_type": "code",
   "execution_count": 1,
   "metadata": {},
   "outputs": [
    {
     "name": "stderr",
     "output_type": "stream",
     "text": [
      "21/08/04 23:28:50 WARN Utils: Your hostname, KAGE-LAPTOP resolves to a loopback address: 127.0.1.1; using 172.30.158.165 instead (on interface eth0)\n",
      "21/08/04 23:28:50 WARN Utils: Set SPARK_LOCAL_IP if you need to bind to another address\n",
      "21/08/04 23:28:52 WARN NativeCodeLoader: Unable to load native-hadoop library for your platform... using builtin-java classes where applicable\n",
      "Using Spark's default log4j profile: org/apache/spark/log4j-defaults.properties\n",
      "Setting default log level to \"WARN\".\n",
      "To adjust logging level use sc.setLogLevel(newLevel). For SparkR, use setLogLevel(newLevel).\n",
      "INFO:SparkMonitorKernel:Client Connected ('127.0.0.1', 42510)\n"
     ]
    },
    {
     "name": "stdout",
     "output_type": "stream",
     "text": [
      "Created Spark Context\n",
      "Created Spark Session\n",
      "Set Good Looking Dataframes\n",
      "Using Apache Arrow\n"
     ]
    }
   ],
   "source": [
    "from pyspark import SparkContext\n",
    "from pyspark.sql import SparkSession\n",
    "import warnings\n",
    "\n",
    "warnings.filterwarnings(\"ignore\")\n",
    "\n",
    "# Start the spark context\n",
    "sc = SparkContext.getOrCreate(conf=swan_spark_conf) \n",
    "print(\"Created Spark Context\")\n",
    "\n",
    "# create a spark session (which will run spark jobs)\n",
    "spark = SparkSession.builder.getOrCreate()\n",
    "print(\"Created Spark Session\")\n",
    "\n",
    "#  set good looking dataframes\n",
    "spark.conf.set('spark.sql.repl.eagerEval.enabled', True)\n",
    "print(\"Set Good Looking Dataframes\")\n",
    "\n",
    "# use Apache Arrow\n",
    "spark.conf.set('spark.sql.execution.arrow.pyspark.enabled', True)\n",
    "print(\"Using Apache Arrow\")"
   ]
  },
  {
   "cell_type": "code",
   "execution_count": 20,
   "metadata": {},
   "outputs": [
    {
     "name": "stderr",
     "output_type": "stream",
     "text": [
      "21/08/05 00:05:55 WARN MemoryManager: Total allocation exceeds 95.00% (911,474,677 bytes) of heap memory\n",
      "Scaling row group sizes to 97.01% for 7 writers\n",
      "21/08/05 00:05:55 WARN MemoryManager: Total allocation exceeds 95.00% (911,474,677 bytes) of heap memory\n",
      "Scaling row group sizes to 84.89% for 8 writers\n",
      "21/08/05 00:05:57 WARN MemoryManager: Total allocation exceeds 95.00% (911,474,677 bytes) of heap memory\n",
      "Scaling row group sizes to 97.01% for 7 writers\n",
      "21/08/05 00:05:57 WARN MemoryManager: Total allocation exceeds 95.00% (911,474,677 bytes) of heap memory\n",
      "Scaling row group sizes to 97.01% for 7 writers\n",
      "21/08/05 00:05:57 WARN MemoryManager: Total allocation exceeds 95.00% (911,474,677 bytes) of heap memory\n",
      "Scaling row group sizes to 84.89% for 8 writers\n",
      "21/08/05 00:05:58 WARN MemoryManager: Total allocation exceeds 95.00% (911,474,677 bytes) of heap memory\n",
      "Scaling row group sizes to 97.01% for 7 writers\n",
      "21/08/05 00:05:58 WARN MemoryManager: Total allocation exceeds 95.00% (911,474,677 bytes) of heap memory\n",
      "Scaling row group sizes to 97.01% for 7 writers\n",
      "21/08/05 00:05:58 WARN MemoryManager: Total allocation exceeds 95.00% (911,474,677 bytes) of heap memory\n",
      "Scaling row group sizes to 84.89% for 8 writers\n",
      "21/08/05 00:05:58 WARN MemoryManager: Total allocation exceeds 95.00% (911,474,677 bytes) of heap memory\n",
      "Scaling row group sizes to 97.01% for 7 writers\n",
      "21/08/05 00:05:59 WARN MemoryManager: Total allocation exceeds 95.00% (911,474,677 bytes) of heap memory\n",
      "Scaling row group sizes to 97.01% for 7 writers\n",
      "21/08/05 00:05:59 WARN MemoryManager: Total allocation exceeds 95.00% (911,474,677 bytes) of heap memory\n",
      "Scaling row group sizes to 97.01% for 7 writers\n",
      "21/08/05 00:05:59 WARN MemoryManager: Total allocation exceeds 95.00% (911,474,677 bytes) of heap memory\n",
      "Scaling row group sizes to 97.01% for 7 writers\n",
      "21/08/05 00:06:00 WARN MemoryManager: Total allocation exceeds 95.00% (911,474,677 bytes) of heap memory\n",
      "Scaling row group sizes to 97.01% for 7 writers\n",
      "21/08/05 00:06:00 WARN MemoryManager: Total allocation exceeds 95.00% (911,474,677 bytes) of heap memory\n",
      "Scaling row group sizes to 84.89% for 8 writers\n",
      "21/08/05 00:06:00 WARN MemoryManager: Total allocation exceeds 95.00% (911,474,677 bytes) of heap memory\n",
      "Scaling row group sizes to 97.01% for 7 writers\n",
      "21/08/05 00:06:00 WARN MemoryManager: Total allocation exceeds 95.00% (911,474,677 bytes) of heap memory\n",
      "Scaling row group sizes to 97.01% for 7 writers\n",
      "21/08/05 00:06:00 WARN MemoryManager: Total allocation exceeds 95.00% (911,474,677 bytes) of heap memory\n",
      "Scaling row group sizes to 84.89% for 8 writers\n",
      "21/08/05 00:06:00 WARN MemoryManager: Total allocation exceeds 95.00% (911,474,677 bytes) of heap memory\n",
      "Scaling row group sizes to 97.01% for 7 writers\n",
      "21/08/05 00:06:01 WARN MemoryManager: Total allocation exceeds 95.00% (911,474,677 bytes) of heap memory\n",
      "Scaling row group sizes to 97.01% for 7 writers\n",
      "21/08/05 00:06:01 WARN MemoryManager: Total allocation exceeds 95.00% (911,474,677 bytes) of heap memory\n",
      "Scaling row group sizes to 97.01% for 7 writers\n",
      "21/08/05 00:06:01 WARN MemoryManager: Total allocation exceeds 95.00% (911,474,677 bytes) of heap memory\n",
      "Scaling row group sizes to 97.01% for 7 writers\n",
      "21/08/05 00:06:01 WARN MemoryManager: Total allocation exceeds 95.00% (911,474,677 bytes) of heap memory\n",
      "Scaling row group sizes to 97.01% for 7 writers\n",
      "21/08/05 00:06:01 WARN MemoryManager: Total allocation exceeds 95.00% (911,474,677 bytes) of heap memory\n",
      "Scaling row group sizes to 97.01% for 7 writers\n",
      "21/08/05 00:06:02 WARN MemoryManager: Total allocation exceeds 95.00% (911,474,677 bytes) of heap memory\n",
      "Scaling row group sizes to 97.01% for 7 writers\n",
      "21/08/05 00:06:02 WARN MemoryManager: Total allocation exceeds 95.00% (911,474,677 bytes) of heap memory\n",
      "Scaling row group sizes to 84.89% for 8 writers\n",
      "21/08/05 00:06:02 WARN MemoryManager: Total allocation exceeds 95.00% (911,474,677 bytes) of heap memory\n",
      "Scaling row group sizes to 97.01% for 7 writers\n",
      "21/08/05 00:06:02 WARN MemoryManager: Total allocation exceeds 95.00% (911,474,677 bytes) of heap memory\n",
      "Scaling row group sizes to 97.01% for 7 writers\n",
      "21/08/05 00:06:03 WARN MemoryManager: Total allocation exceeds 95.00% (911,474,677 bytes) of heap memory\n",
      "Scaling row group sizes to 97.01% for 7 writers\n",
      "21/08/05 00:06:03 WARN MemoryManager: Total allocation exceeds 95.00% (911,474,677 bytes) of heap memory\n",
      "Scaling row group sizes to 84.89% for 8 writers\n",
      "21/08/05 00:06:03 WARN MemoryManager: Total allocation exceeds 95.00% (911,474,677 bytes) of heap memory\n",
      "Scaling row group sizes to 97.01% for 7 writers\n",
      "21/08/05 00:06:04 WARN MemoryManager: Total allocation exceeds 95.00% (911,474,677 bytes) of heap memory\n",
      "Scaling row group sizes to 97.01% for 7 writers\n",
      "21/08/05 00:06:19 WARN MemoryManager: Total allocation exceeds 95.00% (911,474,677 bytes) of heap memory\n",
      "Scaling row group sizes to 97.01% for 7 writers\n",
      "21/08/05 00:06:20 WARN MemoryManager: Total allocation exceeds 95.00% (911,474,677 bytes) of heap memory\n",
      "Scaling row group sizes to 84.89% for 8 writers\n",
      "21/08/05 00:06:20 WARN MemoryManager: Total allocation exceeds 95.00% (911,474,677 bytes) of heap memory\n",
      "Scaling row group sizes to 97.01% for 7 writers\n",
      "21/08/05 00:06:21 WARN MemoryManager: Total allocation exceeds 95.00% (911,474,677 bytes) of heap memory\n",
      "Scaling row group sizes to 97.01% for 7 writers\n",
      "21/08/05 00:06:21 WARN MemoryManager: Total allocation exceeds 95.00% (911,474,677 bytes) of heap memory\n",
      "Scaling row group sizes to 84.89% for 8 writers\n",
      "21/08/05 00:06:21 WARN MemoryManager: Total allocation exceeds 95.00% (911,474,677 bytes) of heap memory\n",
      "Scaling row group sizes to 97.01% for 7 writers\n",
      "21/08/05 00:06:22 WARN MemoryManager: Total allocation exceeds 95.00% (911,474,677 bytes) of heap memory\n",
      "Scaling row group sizes to 97.01% for 7 writers\n",
      "21/08/05 00:06:22 WARN MemoryManager: Total allocation exceeds 95.00% (911,474,677 bytes) of heap memory\n",
      "Scaling row group sizes to 84.89% for 8 writers\n",
      "21/08/05 00:06:22 WARN MemoryManager: Total allocation exceeds 95.00% (911,474,677 bytes) of heap memory\n",
      "Scaling row group sizes to 97.01% for 7 writers\n",
      "21/08/05 00:06:22 WARN MemoryManager: Total allocation exceeds 95.00% (911,474,677 bytes) of heap memory\n",
      "Scaling row group sizes to 97.01% for 7 writers\n",
      "21/08/05 00:06:22 WARN MemoryManager: Total allocation exceeds 95.00% (911,474,677 bytes) of heap memory\n",
      "Scaling row group sizes to 84.89% for 8 writers\n",
      "21/08/05 00:06:23 WARN MemoryManager: Total allocation exceeds 95.00% (911,474,677 bytes) of heap memory\n",
      "Scaling row group sizes to 97.01% for 7 writers\n",
      "                                                                                \r"
     ]
    }
   ],
   "source": [
    "from pyspark.sql import functions as F\n",
    "from pyspark.sql.types import *\n",
    "from pyspark.sql import DataFrame as D\n",
    "\n",
    "sdf = spark.read.parquet('./preprocessed_data/2018JunToAug.parquet')\n",
    "\n",
    "# initRows = sdf.count()\n",
    "\n",
    "sdf = sdf.filter(sdf.VendorID.isin([1,2])) \\\n",
    ".filter(sdf.passenger_count > 0) \\\n",
    ".filter(sdf.trip_distance > 0) \\\n",
    ".filter(sdf.PULocationID.isin(list(range(1,264)))) \\\n",
    ".filter(sdf.DOLocationID.isin(list(range(1,264)))) \\\n",
    ".filter(sdf.payment_type.isin([1,2])) \\\n",
    ".filter(sdf.fare_amount >= 2.5) \\\n",
    ".filter(sdf.extra >= 0) \\\n",
    ".filter(sdf.mta_tax >= 0) \\\n",
    ".filter(sdf.tip_amount >= 0) \\\n",
    ".filter(sdf.improvement_surcharge >= 0) \\\n",
    ".filter(sdf.total_amount == sdf.fare_amount + sdf.extra + sdf.mta_tax + sdf.tip_amount + sdf.improvement_surcharge) \\\n",
    ".filter((sdf.PUDate >= F.lit(\"2018-06-01\")) & (sdf.PUDate <= F.lit(\"2018-08-31\"))) \\\n",
    ".filter((sdf.PUDate <= sdf.DODate))\n",
    "\n",
    "sdf = sdf.withColumn(\"is_weekend\", F.dayofweek('PUDate').isin([0,6,7])).orderBy(\"PUDate\")\n",
    "\n",
    "totRows = sdf.count()\n",
    "\n",
    "sdf_weekdays = sdf.filter(sdf.is_weekend == False)\n",
    "sdf_weekends = sdf.filter(sdf.is_weekend == True)\n",
    "\n",
    "sdf_weekdays.write.format('parquet').save('./preprocessed_data/weekdaysRemovedInvalids.parquet')\n",
    "sdf_weekends.write.format('parquet').save('./preprocessed_data/weekendsRemovedInvalids.parquet')"
   ]
  }
 ],
 "metadata": {
  "kernelspec": {
   "display_name": "Python 3 (ipykernel)",
   "language": "python",
   "name": "python3"
  },
  "language_info": {
   "codemirror_mode": {
    "name": "ipython",
    "version": 3
   },
   "file_extension": ".py",
   "mimetype": "text/x-python",
   "name": "python",
   "nbconvert_exporter": "python",
   "pygments_lexer": "ipython3",
   "version": "3.8.10"
  },
  "varInspector": {
   "cols": {
    "lenName": 16,
    "lenType": 16,
    "lenVar": 40
   },
   "kernels_config": {
    "python": {
     "delete_cmd_postfix": "",
     "delete_cmd_prefix": "del ",
     "library": "var_list.py",
     "varRefreshCmd": "print(var_dic_list())"
    },
    "r": {
     "delete_cmd_postfix": ") ",
     "delete_cmd_prefix": "rm(",
     "library": "var_list.r",
     "varRefreshCmd": "cat(var_dic_list()) "
    }
   },
   "types_to_exclude": [
    "module",
    "function",
    "builtin_function_or_method",
    "instance",
    "_Feature"
   ],
   "window_display": false
  }
 },
 "nbformat": 4,
 "nbformat_minor": 4
}
