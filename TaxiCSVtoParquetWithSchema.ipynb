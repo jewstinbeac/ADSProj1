{
 "cells": [
  {
   "cell_type": "code",
   "execution_count": 1,
   "metadata": {},
   "outputs": [
    {
     "name": "stderr",
     "output_type": "stream",
     "text": [
      "21/08/15 13:11:41 WARN Utils: Your hostname, KAGE-LAPTOP resolves to a loopback address: 127.0.1.1; using 172.19.188.199 instead (on interface eth0)\n",
      "21/08/15 13:11:41 WARN Utils: Set SPARK_LOCAL_IP if you need to bind to another address\n",
      "21/08/15 13:11:43 WARN NativeCodeLoader: Unable to load native-hadoop library for your platform... using builtin-java classes where applicable\n",
      "Using Spark's default log4j profile: org/apache/spark/log4j-defaults.properties\n",
      "Setting default log level to \"WARN\".\n",
      "To adjust logging level use sc.setLogLevel(newLevel). For SparkR, use setLogLevel(newLevel).\n",
      "INFO:SparkMonitorKernel:Client Connected ('127.0.0.1', 36096)\n"
     ]
    },
    {
     "name": "stdout",
     "output_type": "stream",
     "text": [
      "Created Spark Context\n",
      "Created Spark Session\n",
      "Set Good Looking Dataframes\n",
      "Using Apache Arrow\n"
     ]
    }
   ],
   "source": [
    "from pyspark import SparkContext\n",
    "from pyspark.sql import SparkSession\n",
    "import warnings\n",
    "\n",
    "warnings.filterwarnings(\"ignore\")\n",
    "\n",
    "# Start the spark context\n",
    "sc = SparkContext.getOrCreate(conf=swan_spark_conf) \n",
    "print(\"Created Spark Context\")\n",
    "\n",
    "# create a spark session (which will run spark jobs)\n",
    "spark = SparkSession.builder.getOrCreate()\n",
    "print(\"Created Spark Session\")\n",
    "\n",
    "#  set good looking dataframes\n",
    "spark.conf.set('spark.sql.repl.eagerEval.enabled', True)\n",
    "print(\"Set Good Looking Dataframes\")\n",
    "\n",
    "# use Apache Arrow\n",
    "spark.conf.set('spark.sql.execution.arrow.pyspark.enabled', True)\n",
    "print(\"Using Apache Arrow\")"
   ]
  },
  {
   "cell_type": "code",
   "execution_count": 2,
   "metadata": {},
   "outputs": [
    {
     "name": "stderr",
     "output_type": "stream",
     "text": [
      "[Stage 1:=====================================================>   (16 + 1) / 17]\r"
     ]
    },
    {
     "name": "stdout",
     "output_type": "stream",
     "text": [
      "(24412713, 16)\n"
     ]
    },
    {
     "name": "stderr",
     "output_type": "stream",
     "text": [
      "\r",
      "                                                                                \r"
     ]
    }
   ],
   "source": [
    "from pyspark.sql import functions as F\n",
    "from pyspark.sql.types import *\n",
    "from pyspark.sql import DataFrame as D\n",
    "from shutil import rmtree\n",
    "from os import path\n",
    "\n",
    "def createSchema(sdf):\n",
    "    # code taken from the Spark Tutorial from MAST30034 with minor changes to accomodate data post 2015\n",
    "    ints = ('VendorID', 'passenger_count', 'RatecodeID','payment_type', 'PULocationID', 'DOLocationID')\n",
    "    doubles = ('trip_distance', 'fare_amount', 'extra', 'mta_tax', 'tip_amount', 'tolls_amount', \n",
    "               'improvement_surcharge', 'total_amount')\n",
    "    strings = ('store_and_fwd_flag',)\n",
    "    dates = ('tpep_pickup_datetime', 'tpep_dropoff_datetime', )\n",
    "    \n",
    "    # Pick out just the date from the pickup and dropoff datetime before we convert the two columns to Date Types\n",
    "    sdf = sdf.withColumn('tpep_pickup_datetime', F.regexp_extract('tpep_pickup_datetime', '(\\d{4}-\\d{2}-\\d{2}).+', 1)) \\\n",
    "        .withColumn('tpep_dropoff_datetime', F.regexp_extract('tpep_dropoff_datetime', '(\\d{4}-\\d{2}-\\d{2}).+', 1))\n",
    "\n",
    "    dtypes = {column: IntegerType() for column in ints}\n",
    "    dtypes.update({column: DoubleType() for column in doubles})\n",
    "    dtypes.update({column: StringType() for column in strings})\n",
    "    dtypes.update({column: DateType() for column in dates})\n",
    "    \n",
    "    schema = StructType()\n",
    "\n",
    "    for column in sdf.columns:\n",
    "        schema.add(column, # column name\n",
    "                   dtypes[column], # data type\n",
    "                   True # is nullable?\n",
    "                  )\n",
    "    \n",
    "    return schema\n",
    "\n",
    "def readDF(setSchema):\n",
    "    # Read a Spark DataFrame with the schema we have created for the data. Also rename a couple of columns\n",
    "    sdf = spark.read.csv('./raw_data/taxi_trips', header=True, schema=setSchema) \\\n",
    "    .withColumnRenamed(\"RatecodeID\",\"RateCodeID\") \\\n",
    "    .withColumnRenamed('tpep_pickup_datetime', 'PUDate') \\\n",
    "    .withColumnRenamed('tpep_dropoff_datetime', 'DODate')\n",
    "    \n",
    "    return sdf\n",
    "    \n",
    "    \n",
    "sdf = spark.read.csv('./raw_data/taxi_trips', header=True)    \n",
    "sdf = readDF(createSchema(sdf))\n",
    "\n",
    "sdf = sdf.drop(\"store_and_fwd_flag\")\n",
    "\n",
    "\n",
    "print((sdf.count(), len(sdf.columns)))"
   ]
  },
  {
   "cell_type": "code",
   "execution_count": null,
   "metadata": {},
   "outputs": [],
   "source": [
    "fpath = './raw_data/2018JunToAug.parquet'\n",
    "if path.exists(fpath):\n",
    "    rmtree(fpath)\n",
    "sdf.write.format('parquet').save(fpath)"
   ]
  }
 ],
 "metadata": {
  "kernelspec": {
   "display_name": "Python 3 (ipykernel)",
   "language": "python",
   "name": "python3"
  },
  "language_info": {
   "codemirror_mode": {
    "name": "ipython",
    "version": 3
   },
   "file_extension": ".py",
   "mimetype": "text/x-python",
   "name": "python",
   "nbconvert_exporter": "python",
   "pygments_lexer": "ipython3",
   "version": "3.8.10"
  },
  "varInspector": {
   "cols": {
    "lenName": 16,
    "lenType": 16,
    "lenVar": 40
   },
   "kernels_config": {
    "python": {
     "delete_cmd_postfix": "",
     "delete_cmd_prefix": "del ",
     "library": "var_list.py",
     "varRefreshCmd": "print(var_dic_list())"
    },
    "r": {
     "delete_cmd_postfix": ") ",
     "delete_cmd_prefix": "rm(",
     "library": "var_list.r",
     "varRefreshCmd": "cat(var_dic_list()) "
    }
   },
   "types_to_exclude": [
    "module",
    "function",
    "builtin_function_or_method",
    "instance",
    "_Feature"
   ],
   "window_display": false
  }
 },
 "nbformat": 4,
 "nbformat_minor": 4
}
